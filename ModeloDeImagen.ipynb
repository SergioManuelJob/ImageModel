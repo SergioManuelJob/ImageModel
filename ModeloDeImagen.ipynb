{
  "nbformat": 4,
  "nbformat_minor": 0,
  "metadata": {
    "colab": {
      "provenance": [],
      "authorship_tag": "ABX9TyMd1bBGsEquo537q5t5nw7l",
      "include_colab_link": true
    },
    "kernelspec": {
      "name": "python3",
      "display_name": "Python 3"
    },
    "language_info": {
      "name": "python"
    }
  },
  "cells": [
    {
      "cell_type": "markdown",
      "metadata": {
        "id": "view-in-github",
        "colab_type": "text"
      },
      "source": [
        "<a href=\"https://colab.research.google.com/github/SergioManuelJob/ImageModel/blob/master/ModeloDeImagen.ipynb\" target=\"_parent\"><img src=\"https://colab.research.google.com/assets/colab-badge.svg\" alt=\"Open In Colab\"/></a>"
      ]
    },
    {
      "cell_type": "markdown",
      "source": [
        "# Modelo de Segmentación Semántica\n",
        "\n",
        "Modelo extraído de: https://huggingface.co/mattmdjaga/segformer_b2_clothes"
      ],
      "metadata": {
        "id": "J65d_1_FKFco"
      }
    },
    {
      "cell_type": "code",
      "execution_count": null,
      "metadata": {
        "id": "CDQj3ghHADTe"
      },
      "outputs": [],
      "source": [
        "!pip install matplotlib==3.7.1\n",
        "!pip install torch==2.1.1\n",
        "!pip install transformers==4.36.2\n",
        "!pip install Pillow==9.4.0\n",
        "!pip install gradio==4.14.0"
      ]
    },
    {
      "cell_type": "code",
      "source": [
        "from transformers import SegformerImageProcessor, AutoModelForSemanticSegmentation\n",
        "\n",
        "processor = SegformerImageProcessor.from_pretrained(\"mattmdjaga/segformer_b2_clothes\")\n",
        "model = AutoModelForSemanticSegmentation.from_pretrained(\"mattmdjaga/segformer_b2_clothes\")"
      ],
      "metadata": {
        "colab": {
          "base_uri": "https://localhost:8080/"
        },
        "id": "qL9zwV77KTaI",
        "outputId": "828f96cb-7f0e-4e7b-b51f-4478454ec23f"
      },
      "execution_count": 11,
      "outputs": [
        {
          "output_type": "stream",
          "name": "stderr",
          "text": [
            "/usr/local/lib/python3.10/dist-packages/transformers/models/segformer/image_processing_segformer.py:101: FutureWarning: The `reduce_labels` parameter is deprecated and will be removed in a future version. Please use `do_reduce_labels` instead.\n",
            "  warnings.warn(\n"
          ]
        }
      ]
    },
    {
      "cell_type": "code",
      "source": [
        "from PIL import Image\n",
        "import requests\n",
        "import matplotlib.pyplot as plt\n",
        "import torch.nn as nn\n",
        "\n",
        "url = \"https://plus.unsplash.com/premium_photo-1673210886161-bfcc40f54d1f?ixlib=rb-4.0.3&ixid=MnwxMjA3fDB8MHxzZWFyY2h8MXx8cGVyc29uJTIwc3RhbmRpbmd8ZW58MHx8MHx8&w=1000&q=80\"\n",
        "image = Image.open(requests.get(url, stream=True).raw)\n",
        "\n",
        "inputs = processor(images=image, return_tensors=\"pt\")\n",
        "output = model(**inputs)\n",
        "logits = output.logits.cpu()\n",
        "\n",
        "upsampled_logits = nn.functional.interpolate(\n",
        "    logits,\n",
        "    size=image.size[::-1],\n",
        "    mode=\"bilinear\",\n",
        "    align_corners=False,\n",
        ")\n",
        "\n",
        "pred_seg = upsampled_logits.argmax(dim=1)[0]\n",
        "plt.imshow(pred_seg)"
      ],
      "metadata": {
        "colab": {
          "base_uri": "https://localhost:8080/",
          "height": 452
        },
        "id": "BB5T64gxLf74",
        "outputId": "09f2b43d-ecc7-495e-fde0-b68f956cb909"
      },
      "execution_count": 5,
      "outputs": [
        {
          "output_type": "execute_result",
          "data": {
            "text/plain": [
              "<matplotlib.image.AxesImage at 0x7da72dce3460>"
            ]
          },
          "metadata": {},
          "execution_count": 5
        },
        {
          "output_type": "display_data",
          "data": {
            "text/plain": [
              "<Figure size 640x480 with 1 Axes>"
            ],
            "image/png": "[encoded data removed]"
          },
          "metadata": {}
        }
      ]
    },
    {
      "cell_type": "code",
      "source": [
        "import matplotlib.pyplot as plt\n",
        "import numpy as np\n",
        "import gradio as gr\n",
        "\n",
        "from PIL import Image\n",
        "from torch import nn\n",
        "\n",
        "def segment_image(image):\n",
        "  image = Image.fromarray(image)\n",
        "\n",
        "  inputs = processor(images=image, return_tensors=\"pt\")\n",
        "  outputs = model(**inputs)\n",
        "  logits = outputs.logits.cpu()\n",
        "  upsampled_logits = nn.functional.interpolate(\n",
        "          logits,\n",
        "          size=image.size[::-1],\n",
        "          mode=\"bilinear\",\n",
        "          align_corners=False,\n",
        "      )\n",
        "  pred_seg = upsampled_logits.argmax(dim=1)[0].numpy()\n",
        "\n",
        "  colormap = plt.get_cmap('tab20').colors\n",
        "  colormap = np.array(colormap) * 255\n",
        "\n",
        "\n",
        "  colored_seg = np.zeros((*pred_seg.shape, 3), dtype=np.uint8)\n",
        "  for label in range(18):\n",
        "      colored_seg[pred_seg == label] = colormap[label]\n",
        "  return colored_seg\n",
        "\n",
        "\n",
        "gr_image_input = gr.Image(image_mode='RGB', type='numpy')\n",
        "gr_image_output = gr.Image(type='numpy', label='Segmented Image')\n",
        "\n",
        "demo = gr.Interface(fn=segment_image, inputs=gr_image_input, outputs=gr_image_output)"
      ],
      "metadata": {
        "id": "coIgdr3nNH3w"
      },
      "execution_count": 12,
      "outputs": []
    },
    {
      "cell_type": "code",
      "source": [
        "demo.launch(debug=True)"
      ],
      "metadata": {
        "colab": {
          "base_uri": "https://localhost:8080/",
          "height": 646
        },
        "id": "KBKWxZMoOEdI",
        "outputId": "ad53c6cf-61c9-4b60-98c8-c26fac5c0fea"
      },
      "execution_count": null,
      "outputs": [
        {
          "output_type": "stream",
          "name": "stdout",
          "text": [
            "Setting queue=True in a Colab notebook requires sharing enabled. Setting `share=True` (you can turn this off by setting `share=False` in `launch()` explicitly).\n",
            "\n",
            "Colab notebook detected. This cell will run indefinitely so that you can see errors and logs. To turn off, set debug=False in launch().\n",
            "Running on public URL: https://0f337370c2d44c2b36.gradio.live\n",
            "\n",
            "This share link expires in 72 hours. For free permanent hosting and GPU upgrades, run `gradio deploy` from Terminal to deploy to Spaces (https://huggingface.co/spaces)\n"
          ]
        },
        {
          "output_type": "display_data",
          "data": {
            "text/plain": [
              "<IPython.core.display.HTML object>"
            ],
            "text/html": [
              "<div><iframe src=\"https://0f337370c2d44c2b36.gradio.live\" width=\"100%\" height=\"500\" allow=\"autoplay; camera; microphone; clipboard-read; clipboard-write;\" frameborder=\"0\" allowfullscreen></iframe></div>"
            ]
          },
          "metadata": {}
        }
      ]
    }
  ]
}